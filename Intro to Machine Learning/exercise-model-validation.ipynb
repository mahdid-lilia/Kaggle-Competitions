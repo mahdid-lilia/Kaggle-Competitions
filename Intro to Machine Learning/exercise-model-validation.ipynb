{
 "cells": [
  {
   "cell_type": "markdown",
   "id": "6588d77d",
   "metadata": {
    "papermill": {
     "duration": 0.017624,
     "end_time": "2022-05-07T22:34:03.188003",
     "exception": false,
     "start_time": "2022-05-07T22:34:03.170379",
     "status": "completed"
    },
    "tags": []
   },
   "source": [
    "**This notebook is an exercise in the [Introduction to Machine Learning](https://www.kaggle.com/learn/intro-to-machine-learning) course.  You can reference the tutorial at [this link](https://www.kaggle.com/dansbecker/model-validation).**\n",
    "\n",
    "---\n"
   ]
  },
  {
   "cell_type": "markdown",
   "id": "a9187e7d",
   "metadata": {
    "papermill": {
     "duration": 0.016482,
     "end_time": "2022-05-07T22:34:03.221998",
     "exception": false,
     "start_time": "2022-05-07T22:34:03.205516",
     "status": "completed"
    },
    "tags": []
   },
   "source": [
    "## Recap\n",
    "You've built a model. In this exercise you will test how good your model is.\n",
    "\n",
    "Run the cell below to set up your coding environment where the previous exercise left off."
   ]
  },
  {
   "cell_type": "code",
   "execution_count": 1,
   "id": "3f4af8da",
   "metadata": {
    "execution": {
     "iopub.execute_input": "2022-05-07T22:34:03.259626Z",
     "iopub.status.busy": "2022-05-07T22:34:03.259049Z",
     "iopub.status.idle": "2022-05-07T22:34:04.887238Z",
     "shell.execute_reply": "2022-05-07T22:34:04.885400Z"
    },
    "papermill": {
     "duration": 1.65262,
     "end_time": "2022-05-07T22:34:04.891714",
     "exception": false,
     "start_time": "2022-05-07T22:34:03.239094",
     "status": "completed"
    },
    "tags": []
   },
   "outputs": [
    {
     "name": "stdout",
     "output_type": "stream",
     "text": [
      "First in-sample predictions: [208500. 181500. 223500. 140000. 250000.]\n",
      "Actual target values for those homes: [208500, 181500, 223500, 140000, 250000]\n",
      "Setup Complete\n"
     ]
    }
   ],
   "source": [
    "# Code you have previously used to load data\n",
    "import pandas as pd\n",
    "from sklearn.tree import DecisionTreeRegressor\n",
    "\n",
    "# Path of the file to read\n",
    "iowa_file_path = '../input/home-data-for-ml-course/train.csv'\n",
    "\n",
    "home_data = pd.read_csv(iowa_file_path)\n",
    "y = home_data.SalePrice\n",
    "feature_columns = ['LotArea', 'YearBuilt', '1stFlrSF', '2ndFlrSF', 'FullBath', 'BedroomAbvGr', 'TotRmsAbvGrd']\n",
    "X = home_data[feature_columns]\n",
    "\n",
    "# Specify Model\n",
    "iowa_model = DecisionTreeRegressor()\n",
    "# Fit Model\n",
    "iowa_model.fit(X, y)\n",
    "\n",
    "print(\"First in-sample predictions:\", iowa_model.predict(X.head()))\n",
    "print(\"Actual target values for those homes:\", y.head().tolist())\n",
    "\n",
    "# Set up code checking\n",
    "from learntools.core import binder\n",
    "binder.bind(globals())\n",
    "from learntools.machine_learning.ex4 import *\n",
    "print(\"Setup Complete\")"
   ]
  },
  {
   "cell_type": "markdown",
   "id": "ce08d7c0",
   "metadata": {
    "papermill": {
     "duration": 0.017057,
     "end_time": "2022-05-07T22:34:04.928589",
     "exception": false,
     "start_time": "2022-05-07T22:34:04.911532",
     "status": "completed"
    },
    "tags": []
   },
   "source": [
    "# Exercises\n",
    "\n",
    "## Step 1: Split Your Data\n",
    "Use the `train_test_split` function to split up your data.\n",
    "\n",
    "Give it the argument `random_state=1` so the `check` functions know what to expect when verifying your code.\n",
    "\n",
    "Recall, your features are loaded in the DataFrame **X** and your target is loaded in **y**.\n"
   ]
  },
  {
   "cell_type": "code",
   "execution_count": 2,
   "id": "8f15e511",
   "metadata": {
    "execution": {
     "iopub.execute_input": "2022-05-07T22:34:04.965683Z",
     "iopub.status.busy": "2022-05-07T22:34:04.965355Z",
     "iopub.status.idle": "2022-05-07T22:34:04.979125Z",
     "shell.execute_reply": "2022-05-07T22:34:04.978451Z"
    },
    "papermill": {
     "duration": 0.035065,
     "end_time": "2022-05-07T22:34:04.980935",
     "exception": false,
     "start_time": "2022-05-07T22:34:04.945870",
     "status": "completed"
    },
    "tags": []
   },
   "outputs": [
    {
     "data": {
      "application/javascript": [
       "parent.postMessage({\"jupyterEvent\": \"custom.exercise_interaction\", \"data\": {\"outcomeType\": 1, \"valueTowardsCompletion\": 0.25, \"interactionType\": 1, \"questionType\": 2, \"questionId\": \"1_SplitData\", \"learnToolsVersion\": \"0.3.4\", \"failureMessage\": \"\", \"exceptionClass\": \"\", \"trace\": \"\"}}, \"*\")"
      ],
      "text/plain": [
       "<IPython.core.display.Javascript object>"
      ]
     },
     "metadata": {},
     "output_type": "display_data"
    },
    {
     "data": {
      "text/markdown": [
       "<span style=\"color:#33cc33\">Correct</span>"
      ],
      "text/plain": [
       "Correct"
      ]
     },
     "metadata": {},
     "output_type": "display_data"
    }
   ],
   "source": [
    "# Import the train_test_split function and uncomment\n",
    "# from _ import _\n",
    "from sklearn.model_selection import train_test_split\n",
    "# fill in and uncomment\n",
    "train_X, val_X, train_y, val_y = train_test_split(X, y, random_state=1)\n",
    "\n",
    "# Check your answer\n",
    "step_1.check()"
   ]
  },
  {
   "cell_type": "code",
   "execution_count": 3,
   "id": "d8ded445",
   "metadata": {
    "execution": {
     "iopub.execute_input": "2022-05-07T22:34:05.020395Z",
     "iopub.status.busy": "2022-05-07T22:34:05.019780Z",
     "iopub.status.idle": "2022-05-07T22:34:05.027283Z",
     "shell.execute_reply": "2022-05-07T22:34:05.026566Z"
    },
    "papermill": {
     "duration": 0.029266,
     "end_time": "2022-05-07T22:34:05.029487",
     "exception": false,
     "start_time": "2022-05-07T22:34:05.000221",
     "status": "completed"
    },
    "tags": []
   },
   "outputs": [
    {
     "data": {
      "application/javascript": [
       "parent.postMessage({\"jupyterEvent\": \"custom.exercise_interaction\", \"data\": {\"interactionType\": 3, \"questionType\": 2, \"questionId\": \"1_SplitData\", \"learnToolsVersion\": \"0.3.4\", \"valueTowardsCompletion\": 0.0, \"failureMessage\": \"\", \"exceptionClass\": \"\", \"trace\": \"\", \"outcomeType\": 4}}, \"*\")"
      ],
      "text/plain": [
       "<IPython.core.display.Javascript object>"
      ]
     },
     "metadata": {},
     "output_type": "display_data"
    },
    {
     "data": {
      "text/markdown": [
       "<span style=\"color:#33cc99\">Solution:</span> \n",
       "```python\n",
       "from sklearn.model_selection import train_test_split\n",
       "train_X, val_X, train_y, val_y = train_test_split(X, y, random_state=1)\n",
       "```"
      ],
      "text/plain": [
       "Solution: \n",
       "```python\n",
       "from sklearn.model_selection import train_test_split\n",
       "train_X, val_X, train_y, val_y = train_test_split(X, y, random_state=1)\n",
       "```"
      ]
     },
     "metadata": {},
     "output_type": "display_data"
    }
   ],
   "source": [
    "# The lines below will show you a hint or the solution.\n",
    "# step_1.hint() \n",
    "step_1.solution()\n"
   ]
  },
  {
   "cell_type": "markdown",
   "id": "120a4274",
   "metadata": {
    "papermill": {
     "duration": 0.019852,
     "end_time": "2022-05-07T22:34:05.070443",
     "exception": false,
     "start_time": "2022-05-07T22:34:05.050591",
     "status": "completed"
    },
    "tags": []
   },
   "source": [
    "## Step 2: Specify and Fit the Model\n",
    "\n",
    "Create a `DecisionTreeRegressor` model and fit it to the relevant data.\n",
    "Set `random_state` to 1 again when creating the model."
   ]
  },
  {
   "cell_type": "code",
   "execution_count": 4,
   "id": "1ceb73d8",
   "metadata": {
    "execution": {
     "iopub.execute_input": "2022-05-07T22:34:05.113725Z",
     "iopub.status.busy": "2022-05-07T22:34:05.113118Z",
     "iopub.status.idle": "2022-05-07T22:34:05.141088Z",
     "shell.execute_reply": "2022-05-07T22:34:05.139517Z"
    },
    "papermill": {
     "duration": 0.05204,
     "end_time": "2022-05-07T22:34:05.143432",
     "exception": false,
     "start_time": "2022-05-07T22:34:05.091392",
     "status": "completed"
    },
    "tags": []
   },
   "outputs": [
    {
     "name": "stdout",
     "output_type": "stream",
     "text": [
      "[186500. 184000. 130000.  92000. 164500. 220000. 335000. 144152. 215000.\n",
      " 262000.]\n",
      "[186500. 184000. 130000.  92000. 164500. 220000. 335000. 144152. 215000.\n",
      " 262000.]\n"
     ]
    },
    {
     "data": {
      "application/javascript": [
       "parent.postMessage({\"jupyterEvent\": \"custom.exercise_interaction\", \"data\": {\"outcomeType\": 1, \"valueTowardsCompletion\": 0.25, \"interactionType\": 1, \"questionType\": 2, \"questionId\": \"2_FitModelWithTrain\", \"learnToolsVersion\": \"0.3.4\", \"failureMessage\": \"\", \"exceptionClass\": \"\", \"trace\": \"\"}}, \"*\")"
      ],
      "text/plain": [
       "<IPython.core.display.Javascript object>"
      ]
     },
     "metadata": {},
     "output_type": "display_data"
    },
    {
     "data": {
      "text/markdown": [
       "<span style=\"color:#33cc33\">Correct</span>"
      ],
      "text/plain": [
       "Correct"
      ]
     },
     "metadata": {},
     "output_type": "display_data"
    }
   ],
   "source": [
    "# You imported DecisionTreeRegressor in your last exercise\n",
    "# and that code has been copied to the setup code above. So, no need to\n",
    "# import it again\n",
    "from sklearn.tree import DecisionTreeRegressor \n",
    "# Specify the model\n",
    "iowa_model = DecisionTreeRegressor(random_state=1)\n",
    "\n",
    "# Fit iowa_model with the training data.\n",
    "iowa_model.fit(train_X,train_y)\n",
    "\n",
    "# Check your answer\n",
    "step_2.check()\n"
   ]
  },
  {
   "cell_type": "code",
   "execution_count": 5,
   "id": "11217298",
   "metadata": {
    "execution": {
     "iopub.execute_input": "2022-05-07T22:34:05.191180Z",
     "iopub.status.busy": "2022-05-07T22:34:05.190623Z",
     "iopub.status.idle": "2022-05-07T22:34:05.193920Z",
     "shell.execute_reply": "2022-05-07T22:34:05.193161Z"
    },
    "papermill": {
     "duration": 0.030209,
     "end_time": "2022-05-07T22:34:05.196047",
     "exception": false,
     "start_time": "2022-05-07T22:34:05.165838",
     "status": "completed"
    },
    "tags": []
   },
   "outputs": [],
   "source": [
    "# step_2.hint()\n",
    "# step_2.solution()"
   ]
  },
  {
   "cell_type": "markdown",
   "id": "0a214a6f",
   "metadata": {
    "papermill": {
     "duration": 0.022668,
     "end_time": "2022-05-07T22:34:05.240594",
     "exception": false,
     "start_time": "2022-05-07T22:34:05.217926",
     "status": "completed"
    },
    "tags": []
   },
   "source": [
    "## Step 3: Make Predictions with Validation data\n"
   ]
  },
  {
   "cell_type": "code",
   "execution_count": 6,
   "id": "05768732",
   "metadata": {
    "execution": {
     "iopub.execute_input": "2022-05-07T22:34:05.289614Z",
     "iopub.status.busy": "2022-05-07T22:34:05.288985Z",
     "iopub.status.idle": "2022-05-07T22:34:05.299916Z",
     "shell.execute_reply": "2022-05-07T22:34:05.299172Z"
    },
    "papermill": {
     "duration": 0.038639,
     "end_time": "2022-05-07T22:34:05.301909",
     "exception": false,
     "start_time": "2022-05-07T22:34:05.263270",
     "status": "completed"
    },
    "tags": []
   },
   "outputs": [
    {
     "data": {
      "application/javascript": [
       "parent.postMessage({\"jupyterEvent\": \"custom.exercise_interaction\", \"data\": {\"outcomeType\": 1, \"valueTowardsCompletion\": 0.25, \"interactionType\": 1, \"questionType\": 2, \"questionId\": \"3_ValPreds\", \"learnToolsVersion\": \"0.3.4\", \"failureMessage\": \"\", \"exceptionClass\": \"\", \"trace\": \"\"}}, \"*\")"
      ],
      "text/plain": [
       "<IPython.core.display.Javascript object>"
      ]
     },
     "metadata": {},
     "output_type": "display_data"
    },
    {
     "data": {
      "text/markdown": [
       "<span style=\"color:#33cc33\">Correct</span>"
      ],
      "text/plain": [
       "Correct"
      ]
     },
     "metadata": {},
     "output_type": "display_data"
    }
   ],
   "source": [
    "# Predict with all validation observations\n",
    "val_predictions = iowa_model.predict(val_X)\n",
    "\n",
    "# Check your answer\n",
    "step_3.check()"
   ]
  },
  {
   "cell_type": "code",
   "execution_count": 7,
   "id": "76b69d30",
   "metadata": {
    "execution": {
     "iopub.execute_input": "2022-05-07T22:34:05.349951Z",
     "iopub.status.busy": "2022-05-07T22:34:05.349390Z",
     "iopub.status.idle": "2022-05-07T22:34:05.352870Z",
     "shell.execute_reply": "2022-05-07T22:34:05.351923Z"
    },
    "papermill": {
     "duration": 0.030534,
     "end_time": "2022-05-07T22:34:05.355114",
     "exception": false,
     "start_time": "2022-05-07T22:34:05.324580",
     "status": "completed"
    },
    "tags": []
   },
   "outputs": [],
   "source": [
    "# step_3.hint()\n",
    "# step_3.solution()"
   ]
  },
  {
   "cell_type": "markdown",
   "id": "77bb5353",
   "metadata": {
    "papermill": {
     "duration": 0.02402,
     "end_time": "2022-05-07T22:34:05.401210",
     "exception": false,
     "start_time": "2022-05-07T22:34:05.377190",
     "status": "completed"
    },
    "tags": []
   },
   "source": [
    "Inspect your predictions and actual values from validation data."
   ]
  },
  {
   "cell_type": "code",
   "execution_count": 8,
   "id": "ea915112",
   "metadata": {
    "execution": {
     "iopub.execute_input": "2022-05-07T22:34:05.449602Z",
     "iopub.status.busy": "2022-05-07T22:34:05.449023Z",
     "iopub.status.idle": "2022-05-07T22:34:05.463013Z",
     "shell.execute_reply": "2022-05-07T22:34:05.461800Z"
    },
    "papermill": {
     "duration": 0.041451,
     "end_time": "2022-05-07T22:34:05.466175",
     "exception": false,
     "start_time": "2022-05-07T22:34:05.424724",
     "status": "completed"
    },
    "tags": []
   },
   "outputs": [
    {
     "name": "stdout",
     "output_type": "stream",
     "text": [
      "Making predictions for the following 5 houses:\n",
      "   LotArea  YearBuilt  1stFlrSF  2ndFlrSF  FullBath  BedroomAbvGr  \\\n",
      "0     8450       2003       856       854         2             3   \n",
      "1     9600       1976      1262         0         2             3   \n",
      "2    11250       2001       920       866         2             3   \n",
      "3     9550       1915       961       756         1             3   \n",
      "4    14260       2000      1145      1053         2             4   \n",
      "\n",
      "   TotRmsAbvGrd  \n",
      "0             8  \n",
      "1             6  \n",
      "2             6  \n",
      "3             7  \n",
      "4             9  \n",
      "The predictions are\n",
      "[208500. 181500. 223500. 128000. 250000.]\n"
     ]
    }
   ],
   "source": [
    "# print the top few validation predictions\n",
    "\n",
    "# print the top few actual prices from validation data\n",
    "print(\"Making predictions for the following 5 houses:\")\n",
    "print(X.head())\n",
    "print(\"The predictions are\")\n",
    "print(iowa_model.predict(X.head()))"
   ]
  },
  {
   "cell_type": "markdown",
   "id": "295b720c",
   "metadata": {
    "papermill": {
     "duration": 0.022169,
     "end_time": "2022-05-07T22:34:05.511494",
     "exception": false,
     "start_time": "2022-05-07T22:34:05.489325",
     "status": "completed"
    },
    "tags": []
   },
   "source": [
    "What do you notice that is different from what you saw with in-sample predictions (which are printed after the top code cell in this page).\n",
    "\n",
    "Do you remember why validation predictions differ from in-sample (or training) predictions? This is an important idea from the last lesson.\n",
    "\n",
    "## Step 4: Calculate the Mean Absolute Error in Validation Data\n"
   ]
  },
  {
   "cell_type": "code",
   "execution_count": 9,
   "id": "8f503760",
   "metadata": {
    "execution": {
     "iopub.execute_input": "2022-05-07T22:34:05.560807Z",
     "iopub.status.busy": "2022-05-07T22:34:05.559888Z",
     "iopub.status.idle": "2022-05-07T22:34:05.571932Z",
     "shell.execute_reply": "2022-05-07T22:34:05.570545Z"
    },
    "papermill": {
     "duration": 0.040166,
     "end_time": "2022-05-07T22:34:05.574452",
     "exception": false,
     "start_time": "2022-05-07T22:34:05.534286",
     "status": "completed"
    },
    "tags": []
   },
   "outputs": [
    {
     "name": "stdout",
     "output_type": "stream",
     "text": [
      "29652.931506849316\n"
     ]
    },
    {
     "data": {
      "application/javascript": [
       "parent.postMessage({\"jupyterEvent\": \"custom.exercise_interaction\", \"data\": {\"outcomeType\": 1, \"valueTowardsCompletion\": 0.25, \"interactionType\": 1, \"questionType\": 1, \"questionId\": \"4_MAE\", \"learnToolsVersion\": \"0.3.4\", \"failureMessage\": \"\", \"exceptionClass\": \"\", \"trace\": \"\"}}, \"*\")"
      ],
      "text/plain": [
       "<IPython.core.display.Javascript object>"
      ]
     },
     "metadata": {},
     "output_type": "display_data"
    },
    {
     "data": {
      "text/markdown": [
       "<span style=\"color:#33cc33\">Correct</span>"
      ],
      "text/plain": [
       "Correct"
      ]
     },
     "metadata": {},
     "output_type": "display_data"
    }
   ],
   "source": [
    "from sklearn.metrics import mean_absolute_error\n",
    "val_mae = mean_absolute_error(val_y, val_predictions)\n",
    "\n",
    "# uncomment following line to see the validation_mae\n",
    "print(val_mae)\n",
    "\n",
    "# Check your answer\n",
    "step_4.check()"
   ]
  },
  {
   "cell_type": "code",
   "execution_count": 10,
   "id": "32227c80",
   "metadata": {
    "execution": {
     "iopub.execute_input": "2022-05-07T22:34:05.625327Z",
     "iopub.status.busy": "2022-05-07T22:34:05.625038Z",
     "iopub.status.idle": "2022-05-07T22:34:05.628726Z",
     "shell.execute_reply": "2022-05-07T22:34:05.627779Z"
    },
    "papermill": {
     "duration": 0.031096,
     "end_time": "2022-05-07T22:34:05.630978",
     "exception": false,
     "start_time": "2022-05-07T22:34:05.599882",
     "status": "completed"
    },
    "tags": []
   },
   "outputs": [],
   "source": [
    "# step_4.hint()\n",
    "# step_4.solution()"
   ]
  },
  {
   "cell_type": "markdown",
   "id": "5f12b557",
   "metadata": {
    "papermill": {
     "duration": 0.024582,
     "end_time": "2022-05-07T22:34:05.681170",
     "exception": false,
     "start_time": "2022-05-07T22:34:05.656588",
     "status": "completed"
    },
    "tags": []
   },
   "source": [
    "Is that MAE good?  There isn't a general rule for what values are good that applies across applications. But you'll see how to use (and improve) this number in the next step.\n",
    "\n",
    "# Keep Going\n",
    "\n",
    "You are ready for **[Underfitting and Overfitting](https://www.kaggle.com/dansbecker/underfitting-and-overfitting).**\n"
   ]
  },
  {
   "cell_type": "markdown",
   "id": "5164d22b",
   "metadata": {
    "papermill": {
     "duration": 0.023818,
     "end_time": "2022-05-07T22:34:05.729750",
     "exception": false,
     "start_time": "2022-05-07T22:34:05.705932",
     "status": "completed"
    },
    "tags": []
   },
   "source": [
    "---\n",
    "\n",
    "\n",
    "\n",
    "\n",
    "*Have questions or comments? Visit the [course discussion forum](https://www.kaggle.com/learn/intro-to-machine-learning/discussion) to chat with other learners.*"
   ]
  }
 ],
 "metadata": {
  "kernelspec": {
   "display_name": "Python 3",
   "language": "python",
   "name": "python3"
  },
  "language_info": {
   "codemirror_mode": {
    "name": "ipython",
    "version": 3
   },
   "file_extension": ".py",
   "mimetype": "text/x-python",
   "name": "python",
   "nbconvert_exporter": "python",
   "pygments_lexer": "ipython3",
   "version": "3.7.12"
  },
  "papermill": {
   "default_parameters": {},
   "duration": 14.22043,
   "end_time": "2022-05-07T22:34:06.475502",
   "environment_variables": {},
   "exception": null,
   "input_path": "__notebook__.ipynb",
   "output_path": "__notebook__.ipynb",
   "parameters": {},
   "start_time": "2022-05-07T22:33:52.255072",
   "version": "2.3.4"
  }
 },
 "nbformat": 4,
 "nbformat_minor": 5
}
